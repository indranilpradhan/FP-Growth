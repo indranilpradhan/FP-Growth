{
  "nbformat": 4,
  "nbformat_minor": 0,
  "metadata": {
    "colab": {
      "name": "fp_growth.ipynb",
      "provenance": [],
      "collapsed_sections": []
    },
    "kernelspec": {
      "name": "python3",
      "display_name": "Python 3"
    }
  },
  "cells": [
    {
      "cell_type": "code",
      "metadata": {
        "id": "TR513CGPZ0fc"
      },
      "source": [
        "import csv\n",
        "import json\n",
        "from itertools import combinations\n",
        "import threading\n",
        "import math\n",
        "from multiprocessing.pool import ThreadPool as Pool\n",
        "import datetime\n",
        "from collections import OrderedDict, defaultdict\n",
        "import matplotlib.pyplot as plt"
      ],
      "execution_count": null,
      "outputs": []
    },
    {
      "cell_type": "code",
      "metadata": {
        "id": "uxBGzypMqHAG"
      },
      "source": [
        "class TrieNode(object):\n",
        "  def __init__(self,maxnumber):\n",
        "    self.children = [None]*(maxnumber+1)\n",
        "    self.parent_pointer=None\n",
        "    self.parent ='-1'\n",
        "    self.root ='-1'\n",
        "    self.isEndOfWord = False\n",
        "    self.count = [0]*(maxnumber+1)\n",
        "\n",
        "def createTrie(rootnode,items,tree,maxnumber):\n",
        "    node = rootnode\n",
        "    root_element = '-1' \n",
        "    for item in items:\n",
        "      item = int(item)\n",
        "      if root_element == '-1':\n",
        "        root_element = str(item)\n",
        "      node.count[item] += 1\n",
        "      if not node.children[item]:\n",
        "        tree[item].append(node)\n",
        "        node.children[item] = TrieNode(maxnumber)\n",
        "      parent_node = node\n",
        "      node = node.children[item]\n",
        "      node.parent_pointer = parent_node\n",
        "      node.parent = item\n",
        "      node.root = root_element\n",
        "    node.isEndOfWord = True\n",
        "\n",
        "def fp_growth(itemset, minsup):\n",
        "  singleton_item_count = {}\n",
        "  for lst in itemset:\n",
        "    for i in lst:\n",
        "      if i in singleton_item_count:\n",
        "        singleton_item_count[i] += 1\n",
        "      else:\n",
        "        singleton_item_count[i] = 1\n",
        "  freq_singleton_item = {}\n",
        "  for k,v in singleton_item_count.items():\n",
        "    if v >= minsup:\n",
        "      freq_singleton_item[k] = v\n",
        "  maxnumber = 0\n",
        "  test_list = [int(i) for i in list(freq_singleton_item.keys())] \n",
        "  maxnumber = max(maxnumber, max(test_list))\n",
        "  ordered_item_set = []\n",
        "  ordered_item_set_dict = []\n",
        "  for lst in itemset:\n",
        "    temp = {}\n",
        "    for i in lst:\n",
        "      if i in freq_singleton_item:\n",
        "        temp[i] = freq_singleton_item[i]\n",
        "    temp = OrderedDict(sorted(temp.items(), key=lambda kv: kv[1], reverse=True))\n",
        "    ordered_item_set.append(list(temp.keys()))\n",
        "    ordered_item_set_dict.append(dict(temp))\n",
        "    \n",
        "  rootnode = TrieNode(maxnumber)\n",
        "  tree = defaultdict(list) \n",
        "  for lst in ordered_item_set:\n",
        "    createTrie(rootnode,lst,tree,maxnumber)\n",
        "\n",
        "  conditional_pattern_base={}\n",
        "  for i in tree.keys():\n",
        "      conditional_pattern=defaultdict(list)\n",
        "      roots = []\n",
        "      for node in tree[i]:\n",
        "          cond_pattern=[]\n",
        "          pattern = {}\n",
        "          temp=node\n",
        "          value=node.count[int(i)]\n",
        "          parent=node.parent\n",
        "          root_value=node.root\n",
        "          while(temp.parent_pointer):\n",
        "              cond_pattern.append(parent)\n",
        "              temp=temp.parent_pointer\n",
        "              parent=temp.parent\n",
        "          if len(cond_pattern) != 0:\n",
        "            pattern[tuple(cond_pattern)] = value\n",
        "            if root_value in roots:\n",
        "              conditional_pattern[int(root_value)].append(pattern)\n",
        "            else:\n",
        "              roots.append(root_value)\n",
        "              conditional_pattern[int(root_value)].append(pattern)          \n",
        "            conditional_pattern_base[i]=conditional_pattern\n",
        "\n",
        "  frequent_pattern = defaultdict(list)\n",
        "  for key,value in conditional_pattern_base.items():\n",
        "    for key2,value2 in value.items():\n",
        "      freq = {}\n",
        "      for item in value2:\n",
        "        for k,v in item.items():\n",
        "          for i in list(k):\n",
        "            if i in freq:\n",
        "              freq[i] = freq[i] + v\n",
        "            else:\n",
        "              freq[i] = v\n",
        "      freq_p = {}\n",
        "      for k,v in freq.items():\n",
        "        freq_p[k] = v\n",
        "      frequent_pattern[key].append(freq_p)\n",
        "\n",
        "  before_final_pattern = {}\n",
        "  for key, value in frequent_pattern.items():\n",
        "    for item in value:\n",
        "      keys = list(item.keys())\n",
        "      for i in range(1,len(keys)+1):\n",
        "        comb = list(combinations(keys,i))\n",
        "        for c in comb:\n",
        "          lst = list(c)\n",
        "          mincount= 99999999\n",
        "          for j in lst:\n",
        "            mincount = min(mincount,item[j])\n",
        "          lst.append(key)\n",
        "          if tuple(sorted(lst)) not in before_final_pattern:\n",
        "            before_final_pattern[tuple(sorted(lst))] = mincount\n",
        "          else:\n",
        "            before_final_pattern[tuple(sorted(lst))] += mincount\n",
        "\n",
        "  final_pattern = []\n",
        "  for k, v in before_final_pattern.items():\n",
        "    if v >= minsup:\n",
        "      final_pattern.append(list(k))\n",
        "  return final_pattern"
      ],
      "execution_count": null,
      "outputs": []
    },
    {
      "cell_type": "markdown",
      "metadata": {
        "id": "OJYyWKraUTzm"
      },
      "source": [
        "##Sign Dataset"
      ]
    },
    {
      "cell_type": "markdown",
      "metadata": {
        "id": "XchvSYfrUeU3"
      },
      "source": [
        "**0.9**"
      ]
    },
    {
      "cell_type": "code",
      "metadata": {
        "id": "zyMMxVtzUeAU"
      },
      "source": [
        "itemset = []\n",
        "minsup = 657\n",
        "with open('/content/data/sign.txt', 'r') as f:\n",
        "    reader = csv.reader(f)\n",
        "    for row in reader:\n",
        "        temp = [i.strip() for i in row[0].split('-1')]\n",
        "        if temp[-1] != '-2':\n",
        "          print('wrong')\n",
        "        temp.pop()       \n",
        "        itemset.append(temp)\n",
        "st = datetime.datetime.now()\n",
        "final_pattern=fp_growth(itemset,minsup)\n",
        "end = datetime.datetime.now()\n",
        "diff = end - st\n",
        "print(diff.total_seconds())\n",
        "final_pattern"
      ],
      "execution_count": null,
      "outputs": []
    },
    {
      "cell_type": "markdown",
      "metadata": {
        "id": "i-sDAUkSUVpK"
      },
      "source": [
        "**0.8**"
      ]
    },
    {
      "cell_type": "code",
      "metadata": {
        "id": "jCjOwp3VrSgK"
      },
      "source": [
        "itemset = []\n",
        "minsup = 584\n",
        "with open('/content/data/sign.txt', 'r') as f:\n",
        "    reader = csv.reader(f)\n",
        "    for row in reader:\n",
        "        temp = [i.strip() for i in row[0].split('-1')]\n",
        "        if temp[-1] != '-2':\n",
        "          print('wrong')\n",
        "        temp.pop()       \n",
        "        itemset.append(temp)\n",
        "st = datetime.datetime.now()\n",
        "final_pattern=fp_growth(itemset,minsup)\n",
        "end = datetime.datetime.now()\n",
        "diff = end - st\n",
        "print(diff.total_seconds())\n",
        "final_pattern"
      ],
      "execution_count": null,
      "outputs": []
    },
    {
      "cell_type": "markdown",
      "metadata": {
        "id": "TGxWfTCjWDw8"
      },
      "source": [
        "**0.7**"
      ]
    },
    {
      "cell_type": "code",
      "metadata": {
        "id": "7Zv0XDdzWI0D"
      },
      "source": [
        "itemset = []\n",
        "minsup = 511\n",
        "with open('/content/data/sign.txt', 'r') as f:\n",
        "    reader = csv.reader(f)\n",
        "    for row in reader:\n",
        "        temp = [i.strip() for i in row[0].split('-1')]\n",
        "        if temp[-1] != '-2':\n",
        "          print('wrong')\n",
        "        temp.pop()       \n",
        "        itemset.append(temp)\n",
        "st = datetime.datetime.now()\n",
        "final_pattern=fp_growth(itemset,minsup)\n",
        "end = datetime.datetime.now()\n",
        "diff = end - st\n",
        "print(diff.total_seconds())\n",
        "final_pattern"
      ],
      "execution_count": null,
      "outputs": []
    },
    {
      "cell_type": "markdown",
      "metadata": {
        "id": "HNJimosDW19-"
      },
      "source": [
        "##Leviathan"
      ]
    },
    {
      "cell_type": "markdown",
      "metadata": {
        "id": "Bdd_BgPxYPji"
      },
      "source": [
        "**0.7**"
      ]
    },
    {
      "cell_type": "code",
      "metadata": {
        "id": "INLUnP-KyP1a"
      },
      "source": [
        "itemset = []\n",
        "minsup = 4084\n",
        "with open('/content/data/Leviathan.txt', 'r') as f:\n",
        "    reader = csv.reader(f)\n",
        "    for row in reader:\n",
        "        temp = [i.strip() for i in row[0].split('-1')]\n",
        "        if temp[-1] != '-2':\n",
        "          print('wrong')\n",
        "        temp.pop()       \n",
        "        itemset.append(temp)\n",
        "st = datetime.datetime.now()\n",
        "final_pattern=fp_growth(itemset,minsup)\n",
        "end = datetime.datetime.now()\n",
        "diff = end - st\n",
        "print(diff.total_seconds())\n",
        "final_pattern"
      ],
      "execution_count": null,
      "outputs": []
    },
    {
      "cell_type": "markdown",
      "metadata": {
        "id": "5-XxSsC4YS9W"
      },
      "source": [
        "**0.6**"
      ]
    },
    {
      "cell_type": "code",
      "metadata": {
        "id": "krUzf5qVYXwO"
      },
      "source": [
        "itemset = []\n",
        "minsup = 3501\n",
        "with open('/content/data/Leviathan.txt', 'r') as f:\n",
        "    reader = csv.reader(f)\n",
        "    for row in reader:\n",
        "        temp = [i.strip() for i in row[0].split('-1')]\n",
        "        if temp[-1] != '-2':\n",
        "          print('wrong')\n",
        "        temp.pop()       \n",
        "        itemset.append(temp)\n",
        "st = datetime.datetime.now()\n",
        "final_pattern=fp_growth(itemset,minsup)\n",
        "end = datetime.datetime.now()\n",
        "diff = end - st\n",
        "print(diff.total_seconds())\n",
        "final_pattern"
      ],
      "execution_count": null,
      "outputs": []
    },
    {
      "cell_type": "markdown",
      "metadata": {
        "id": "1TfpoVZSYb6h"
      },
      "source": [
        "**0.5**"
      ]
    },
    {
      "cell_type": "code",
      "metadata": {
        "id": "2o6dKtltdm1d"
      },
      "source": [
        "itemset = []\n",
        "minsup = 2917\n",
        "with open('/content/data/Leviathan.txt', 'r') as f:\n",
        "    reader = csv.reader(f)\n",
        "    for row in reader:\n",
        "        temp = [i.strip() for i in row[0].split('-1')]\n",
        "        if temp[-1] != '-2':\n",
        "          print('wrong')\n",
        "        temp.pop()       \n",
        "        itemset.append(temp)\n",
        "st = datetime.datetime.now()\n",
        "final_pattern=fp_growth(itemset,minsup)\n",
        "end = datetime.datetime.now()\n",
        "diff = end - st\n",
        "print(diff.total_seconds())\n",
        "final_pattern"
      ],
      "execution_count": null,
      "outputs": []
    },
    {
      "cell_type": "markdown",
      "metadata": {
        "id": "qtDgZH1IYr-q"
      },
      "source": [
        "##Library"
      ]
    },
    {
      "cell_type": "markdown",
      "metadata": {
        "id": "4DcE3TvRZO55"
      },
      "source": [
        "##Sign"
      ]
    },
    {
      "cell_type": "markdown",
      "metadata": {
        "id": "CWX6-1usYuuf"
      },
      "source": [
        "**0.9**"
      ]
    },
    {
      "cell_type": "code",
      "metadata": {
        "id": "jIEOuEqzxn2n"
      },
      "source": [
        "import pyfpgrowth\n",
        "itemset = []\n",
        "minsup = 657\n",
        "with open('/content/data/sign.txt', 'r') as f:\n",
        "    reader = csv.reader(f)\n",
        "    for row in reader:\n",
        "        temp = [i.strip() for i in row[0].split('-1')]\n",
        "        if temp[-1] != '-2':\n",
        "          print('wrong')\n",
        "        temp.pop()       \n",
        "        itemset.append(temp)\n",
        "st = datetime.datetime.now()\n",
        "patterns = pyfpgrowth.find_frequent_patterns(itemset, minsup)\n",
        "for tup,val in patterns.items():\n",
        "  if len(list(tup)) > 1:\n",
        "    print(tup)\n",
        "end = datetime.datetime.now()\n",
        "diff = end - st\n",
        "print(diff.total_seconds()/60.0)"
      ],
      "execution_count": null,
      "outputs": []
    },
    {
      "cell_type": "code",
      "metadata": {
        "id": "1u2HjoP-ypYR"
      },
      "source": [
        "import pyfpgrowth\n",
        "itemset = []\n",
        "minsup = 584\n",
        "with open('/content/data/sign.txt', 'r') as f:\n",
        "    reader = csv.reader(f)\n",
        "    for row in reader:\n",
        "        temp = [i.strip() for i in row[0].split('-1')]\n",
        "        if temp[-1] != '-2':\n",
        "          print('wrong')\n",
        "        temp.pop()       \n",
        "        itemset.append(temp)\n",
        "st = datetime.datetime.now()\n",
        "patterns = pyfpgrowth.find_frequent_patterns(itemset, minsup)\n",
        "for tup,val in patterns.items():\n",
        "  if len(list(tup)) > 1:\n",
        "    print(tup)\n",
        "end = datetime.datetime.now()\n",
        "diff = end - st\n",
        "print(diff.total_seconds()/60.0)"
      ],
      "execution_count": null,
      "outputs": []
    },
    {
      "cell_type": "code",
      "metadata": {
        "id": "D_705BK-zIT6"
      },
      "source": [
        "import pyfpgrowth\n",
        "itemset = []\n",
        "minsup = 511\n",
        "with open('/content/data/sign.txt', 'r') as f:\n",
        "    reader = csv.reader(f)\n",
        "    for row in reader:\n",
        "        temp = [i.strip() for i in row[0].split('-1')]\n",
        "        if temp[-1] != '-2':\n",
        "          print('wrong')\n",
        "        temp.pop()       \n",
        "        itemset.append(temp)\n",
        "st = datetime.datetime.now()\n",
        "patterns = pyfpgrowth.find_frequent_patterns(itemset, minsup)\n",
        "for tup,val in patterns.items():\n",
        "  if len(list(tup)) > 1:\n",
        "    print(tup)\n",
        "end = datetime.datetime.now()\n",
        "diff = end - st\n",
        "print(diff.total_seconds()/60.0)"
      ],
      "execution_count": null,
      "outputs": []
    },
    {
      "cell_type": "markdown",
      "metadata": {
        "id": "byjk-5wlZRra"
      },
      "source": [
        "##Leviathan"
      ]
    },
    {
      "cell_type": "code",
      "metadata": {
        "id": "RdKTq4nzZMou"
      },
      "source": [
        "import pyfpgrowth\n",
        "itemset = []\n",
        "minsup = 5000\n",
        "with open('/content/data/Leviathan.txt', 'r') as f:\n",
        "    reader = csv.reader(f)\n",
        "    for row in reader:\n",
        "        temp = [i.strip() for i in row[0].split('-1')]\n",
        "        if temp[-1] != '-2':\n",
        "          print('wrong')\n",
        "        temp.pop()       \n",
        "        itemset.append(temp)\n",
        "st = datetime.datetime.now()\n",
        "patterns = pyfpgrowth.find_frequent_patterns(itemset, minsup)\n",
        "for tup,val in patterns.items():\n",
        "  if len(list(tup)) > 1:\n",
        "    print(tup)\n",
        "end = datetime.datetime.now()\n",
        "diff = end - st\n",
        "print(diff.total_seconds()/60.0)"
      ],
      "execution_count": null,
      "outputs": []
    },
    {
      "cell_type": "code",
      "metadata": {
        "id": "xtS9KVeRZaRg"
      },
      "source": [
        "import pyfpgrowth\n",
        "itemset = []\n",
        "minsup = 3501\n",
        "with open('/content/data/Leviathan.txt', 'r') as f:\n",
        "    reader = csv.reader(f)\n",
        "    for row in reader:\n",
        "        temp = [i.strip() for i in row[0].split('-1')]\n",
        "        if temp[-1] != '-2':\n",
        "          print('wrong')\n",
        "        temp.pop()       \n",
        "        itemset.append(temp)\n",
        "st = datetime.datetime.now()\n",
        "patterns = pyfpgrowth.find_frequent_patterns(itemset, minsup)\n",
        "for tup,val in patterns.items():\n",
        "  if len(list(tup)) > 1:\n",
        "    print(tup)\n",
        "end = datetime.datetime.now()\n",
        "diff = end - st\n",
        "print(diff.total_seconds()/60.0)"
      ],
      "execution_count": null,
      "outputs": []
    },
    {
      "cell_type": "code",
      "metadata": {
        "id": "mjAS5_6Z3qZp"
      },
      "source": [
        "import pyfpgrowth\n",
        "itemset = []\n",
        "minsup = 2917\n",
        "with open('/content/data/Leviathan.txt', 'r') as f:\n",
        "    reader = csv.reader(f)\n",
        "    for row in reader:\n",
        "        temp = [i.strip() for i in row[0].split('-1')]\n",
        "        if temp[-1] != '-2':\n",
        "          print('wrong')\n",
        "        temp.pop()       \n",
        "        itemset.append(temp)\n",
        "st = datetime.datetime.now()\n",
        "patterns = pyfpgrowth.find_frequent_patterns(itemset, minsup)\n",
        "for tup,val in patterns.items():\n",
        "  if len(list(tup)) > 1:\n",
        "    print(tup)\n",
        "end = datetime.datetime.now()\n",
        "diff = end - st\n",
        "print(diff.total_seconds()/60.0)"
      ],
      "execution_count": null,
      "outputs": []
    },
    {
      "cell_type": "code",
      "metadata": {
        "id": "BKXt_UMc4PGd"
      },
      "source": [
        ""
      ],
      "execution_count": null,
      "outputs": []
    }
  ]
}